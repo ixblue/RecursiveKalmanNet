{
 "cells": [
  {
   "cell_type": "code",
   "execution_count": null,
   "metadata": {},
   "outputs": [],
   "source": [
    "# This notebook demonstrates how to use the RKN to find the results of the Eusipco 2025 RKN publication."
   ]
  },
  {
   "cell_type": "code",
   "execution_count": null,
   "metadata": {},
   "outputs": [],
   "source": [
    "from Algo.KalmanFilter import KalmanFilter\n",
    "from Algo.RecursiveKalmanNet import GRUNetwork, RKN, Trainer\n",
    "from Algo.DynamicalSystems import DynamicalSystems\n",
    "from Algo.LossFunctions import GaussianLikelihoodLoss, MSELoss\n",
    "\n",
    "from Tools.Plots import Plot_Std_RKN, Plot_Comparison_RKN, Plot_Loss\n",
    "from Tools.GenerateMeasurementAndTarget import generate_measurements_and_target\n",
    "from Tools.GenerateStdValues import generate_std_values\n",
    "\n",
    "import torch\n",
    "import os\n",
    "import matplotlib.pyplot as plt\n",
    "from adabelief_pytorch import AdaBelief"
   ]
  },
  {
   "cell_type": "code",
   "execution_count": null,
   "metadata": {},
   "outputs": [],
   "source": [
    "# Batch sizes and sequence length\n",
    "N_E, N_CV, N_T = 1000, 100, 1000\n",
    "len_sequence = 150\n",
    "\n",
    "# Bimodal noise parameters\n",
    "sigma_1 = 1.25\n",
    "p = 0.6\n",
    "r = 1\n",
    "sigma_2 = ( (1/(1-p)) * (r-p*(sigma_1**2)) )**0.5\n",
    "print(\"sigma_2 :\", sigma_2)"
   ]
  },
  {
   "cell_type": "code",
   "execution_count": null,
   "metadata": {},
   "outputs": [],
   "source": [
    "train_std_values = generate_std_values(batch_size = N_E,\n",
    "                                       len_sequence = len_sequence,\n",
    "                                       obs_noise_distribution=['bimodal', [sigma_1, sigma_2, p]])\n",
    "\n",
    "valid_std_values = generate_std_values(batch_size=N_CV,\n",
    "                                       len_sequence=len_sequence,\n",
    "                                       obs_noise_distribution=['bimodal', [sigma_1, sigma_2, p]])\n",
    "\n",
    "test_std_values = generate_std_values(batch_size=N_T,\n",
    "                                      len_sequence=len_sequence,\n",
    "                                      obs_noise_distribution=['bimodal', [sigma_1, sigma_2, p]])"
   ]
  },
  {
   "cell_type": "code",
   "execution_count": null,
   "metadata": {},
   "outputs": [],
   "source": [
    "# Retrieve time-varying Kalman Filter parameters\n",
    "dynamical_system_train = DynamicalSystems.constant_spd_linear_model(dt = 1,\n",
    "                                                                    propag_std = 1e-2,\n",
    "                                                                    obs_std_values = train_std_values)\n",
    "\n",
    "dynamical_system_valid = DynamicalSystems.constant_spd_linear_model(dt = 1,\n",
    "                                                                    propag_std = 1e-2,\n",
    "                                                                    obs_std_values = valid_std_values)\n",
    "\n",
    "dynamical_system_test = DynamicalSystems.constant_spd_linear_model(dt = 1,\n",
    "                                                                   propag_std = 1e-2,\n",
    "                                                                   obs_std_values = test_std_values)\n"
   ]
  },
  {
   "cell_type": "code",
   "execution_count": null,
   "metadata": {},
   "outputs": [],
   "source": [
    "# Initial conditions of the dynamical system\n",
    "data_path = '.data/'\n",
    "dataset_name = 'dataset_bimodal_observation_noise'\n",
    "\n",
    "x0 = torch.tensor([[0, 1]], dtype=torch.float32).T\n",
    "P0 = torch.tensor([[1, 0   ],\n",
    "                   [0, 0.01]], dtype=torch.float32)"
   ]
  },
  {
   "cell_type": "code",
   "execution_count": null,
   "metadata": {},
   "outputs": [],
   "source": [
    "train_file = data_path + dataset_name + '/train.pt'\n",
    "valid_file = data_path + dataset_name + '/valid.pt'\n",
    "test_file = data_path + dataset_name + '/test.pt'\n",
    "\n",
    "try:\n",
    "    if os.path.exists(train_file) and os.path.exists(valid_file) and os.path.exists(test_file):\n",
    "        print(\"Loading existing datasets...\")\n",
    "        train_measure, train_target, _, train_R_values = torch.load(train_file)\n",
    "        valid_measure, valid_target, _, valid_R_values = torch.load(valid_file)\n",
    "        test_measure, test_target, _, test_R_values = torch.load(test_file)\n",
    "    else:\n",
    "        print(\"Generating new datasets...\")\n",
    "        path_train = generate_measurements_and_target(N_E, len_sequence, dynamical_system_train, x0, P0, train_file)\n",
    "        path_valid = generate_measurements_and_target(N_CV, len_sequence, dynamical_system_valid, x0, P0, valid_file)\n",
    "        path_test = generate_measurements_and_target(N_T, len_sequence, dynamical_system_test, x0, P0, test_file)\n",
    "\n",
    "        train_measure, train_target, _, train_R_values = torch.load(path_train)\n",
    "        valid_measure, valid_target, _, valid_R_values = torch.load(path_valid)\n",
    "        test_measure, test_target, _, test_R_values = torch.load(path_test)\n",
    "        \n",
    "except Exception as e:\n",
    "    print(\"An error occurred:\", e)"
   ]
  },
  {
   "cell_type": "code",
   "execution_count": null,
   "metadata": {},
   "outputs": [],
   "source": [
    "# Configurate the R matrix with the data loaded\n",
    "dynamical_system_test = DynamicalSystems.constant_spd_linear_model(dt = 1,\n",
    "                                                                   propag_std = 1e-2,\n",
    "                                                                   obs_std_values = test_R_values[:, 0, 0, :]**0.5)"
   ]
  },
  {
   "cell_type": "code",
   "execution_count": null,
   "metadata": {},
   "outputs": [],
   "source": [
    "# oKF means Optimal Kalman Filter, which is the Kalman Filter with the exact R matrix.\n",
    "# Thus, the Kalman Filter tuns in the optimal way, this is used as reference for the RKN.\n",
    "\n",
    "oKF = KalmanFilter(dynamical_system_test, x0, P0)\n",
    "oKF_x, oKF_gain, oKF_cov = oKF.process_batch(test_measure)"
   ]
  },
  {
   "cell_type": "code",
   "execution_count": null,
   "metadata": {},
   "outputs": [],
   "source": [
    "# Defining the soKF, sub-optimal Kalman Filter, using a R matrix that is constant over time with a mean value r (computed above).\n",
    "# soKF is used as the reference that the RKN should outperform.\n",
    "\n",
    "test_std_values_so = generate_std_values(batch_size=N_T,\n",
    "                                         len_sequence=len_sequence,\n",
    "                                         obs_noise_distribution=['normal', r])\n",
    "\n",
    "dynamical_system_test_so = DynamicalSystems.constant_spd_linear_model(dt = 1,\n",
    "                                                                      propag_std = 1e-2,\n",
    "                                                                      obs_std_values = test_std_values_so)\n",
    "\n",
    "soKF = KalmanFilter(dynamical_system_test_so, x0, P0)\n",
    "soKF_x, soKF_gain, soKF_cov = soKF.process_batch(test_measure)"
   ]
  },
  {
   "cell_type": "code",
   "execution_count": null,
   "metadata": {},
   "outputs": [],
   "source": [
    "F, _, H, _ = dynamical_system_test\n",
    "\n",
    "# Initialize the RKN, if the model_name specified exists in the .models/ file, it loads the model. If not, it initialies a new one with default parameters.\n",
    "# Check the load_or_init_rnns method in the RecursiveKalmanNet.py file for more information.\n",
    "\n",
    "model_name = 'RKN_bimodal'\n",
    "seed = 61\n",
    "torch.manual_seed(seed)\n",
    "weight_factor = 0.1\n",
    "\n",
    "# Initialize RKN\n",
    "rkn = RKN([F, H],\n",
    "          x0, P0,\n",
    "          model_name=model_name,\n",
    "          weight_factor=weight_factor)\n"
   ]
  },
  {
   "cell_type": "code",
   "execution_count": null,
   "metadata": {},
   "outputs": [],
   "source": [
    "# Initialize Trainer\n",
    "learning_rate = 5e-4\n",
    "use_cuda = torch.cuda.is_available()\n",
    "\n",
    "# Initialize the Trainer \n",
    "rkn.model_name = 'RKN_bimodal'\n",
    "trainer = Trainer(rkn, learning_rate, use_cuda, seed, training_loss=GaussianLikelihoodLoss())\n",
    "\n",
    "# Use a slightly modified optimizer from Adam (default optimizer used in the Trainer), converge faster\n",
    "weight_decay = 1e-4\n",
    "trainer.optimizer = AdaBelief(trainer.model.parameters(), lr=trainer.learning_rate, weight_decay=weight_decay, weight_decouple=False, eps=1e-16, rectify=False, print_change_log=False)\n",
    "\n",
    "# Additional parameters\n",
    "n_epochs = 20\n",
    "batch_size = 64\n",
    "\n",
    "# Set a lr scheduler to deacrease the learning rate through the epochs\n",
    "trainer.set_decreasing_learning_rate(decreasing_learning_rate=True, n_epochs=n_epochs, initial_lr=learning_rate, final_lr=5e-5, step_size=1)\n",
    "\n",
    "# Train the model\n",
    "trainer.train(train_measure, train_target, valid_measure, valid_target, n_epochs, batch_size)"
   ]
  },
  {
   "cell_type": "code",
   "execution_count": null,
   "metadata": {},
   "outputs": [],
   "source": [
    "RKN_x, RKN_gain, RKN_cov = rkn.process_batch(test_measure)"
   ]
  },
  {
   "cell_type": "code",
   "execution_count": null,
   "metadata": {},
   "outputs": [],
   "source": [
    "test_size = test_target.size()[0]\n",
    "loss_fn = torch.nn.MSELoss(reduction='mean')\n",
    "\n",
    "list_results = {\n",
    "    'o-KF' : oKF_x[:,:,:],\n",
    "    'so-KF' : soKF_x[:,:,:],\n",
    "    'RKN' : RKN_x[:,:,:]\n",
    "}\n",
    "\n",
    "for key, predictions in list_results.items():\n",
    "    print(\"MSE results in linear scale and dB scale for model \", key)\n",
    "    MSE_test_linear_avg = torch.mean(torch.square(test_target[:,:,:] - predictions[:,:,:].detach()))\n",
    "    MSE_test_dB_avg = 10 * torch.log10(MSE_test_linear_avg)\n",
    "\n",
    "    print(\"MSE : \", MSE_test_dB_avg, \" [dB]\")\n",
    "    print(\"MSE : \", MSE_test_linear_avg , \" [linear scale] \\n\")\n"
   ]
  },
  {
   "cell_type": "code",
   "execution_count": null,
   "metadata": {},
   "outputs": [],
   "source": [
    "Plot_Loss(model_name, aspect_ratio=[5,4])"
   ]
  },
  {
   "cell_type": "code",
   "execution_count": null,
   "metadata": {},
   "outputs": [],
   "source": [
    "plot_path = '.results/plot_saves/'\n",
    "plot_name = 'std_graph_bimodal'\n",
    "\n",
    "dict = {'o-KF': [oKF_x, oKF_cov, 0],\n",
    "        'so-KF': [soKF_x, soKF_cov, 1],\n",
    "        'RKN': [RKN_x, RKN_cov, 2],}\n",
    "\n",
    "Plot_Std_RKN(T=len_sequence,\n",
    "                state=0,\n",
    "                path=plot_path + plot_name, \n",
    "                test_target=test_target, \n",
    "                data_dict = dict,\n",
    "                y_lim=None,\n",
    "                marker_every=15,\n",
    "                graph_size=1.5,\n",
    "                time_lim=[0,150],\n",
    "                x_label='Time (s)',\n",
    "                y_label='Position Standard Deviation (m)',\n",
    "                err_emp_std = 'Emp. std')"
   ]
  },
  {
   "cell_type": "code",
   "execution_count": null,
   "metadata": {},
   "outputs": [],
   "source": [
    "plot_name = 'gain_graph_bimodal'\n",
    "\n",
    "idx = 5\n",
    "dict = {'o-KF': oKF_gain[idx,:1,:,:],\n",
    "        'so-KF': soKF_gain[idx,:1,:,:],\n",
    "        'RKN': RKN_gain[idx,:1,:,:],\n",
    "        }\n",
    "\n",
    "Plot_Comparison_RKN(T=len_sequence,\n",
    "                    path=plot_path + plot_name,\n",
    "                    data_dict=dict,\n",
    "                    y_lim = [[0, 0.7]],\n",
    "                    show=True,\n",
    "                    marker_every=10,\n",
    "                    graph_size=1,\n",
    "                    time_lim=[0,60],\n",
    "                    x_label='Time (s)',\n",
    "                    y_label='Position gain',\n",
    "                    aspect_ratio=[6,4],\n",
    "                    fontsize=12,\n",
    "                    title='Temporal evolution of position estimated gain',\n",
    "                    linewidth=1.5\n",
    "                     )"
   ]
  },
  {
   "cell_type": "code",
   "execution_count": null,
   "metadata": {},
   "outputs": [],
   "source": []
  }
 ],
 "metadata": {
  "kernelspec": {
   "display_name": "env",
   "language": "python",
   "name": "python3"
  },
  "language_info": {
   "codemirror_mode": {
    "name": "ipython",
    "version": 3
   },
   "file_extension": ".py",
   "mimetype": "text/x-python",
   "name": "python",
   "nbconvert_exporter": "python",
   "pygments_lexer": "ipython3",
   "version": "3.12.8"
  }
 },
 "nbformat": 4,
 "nbformat_minor": 2
}
