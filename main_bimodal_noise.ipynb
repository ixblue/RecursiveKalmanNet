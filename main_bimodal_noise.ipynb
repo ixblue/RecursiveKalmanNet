{
 "cells": [
  {
   "cell_type": "code",
   "execution_count": null,
   "metadata": {},
   "outputs": [],
   "source": [
    "# This notebook demonstrates how to use the RKN to find the results of the Eusipco 2025 RKN publication."
   ]
  },
  {
   "cell_type": "code",
   "execution_count": null,
   "metadata": {},
   "outputs": [],
   "source": [
    "from Algo.KalmanFilter import KalmanFilter\n",
    "from Algo.RecursiveKalmanNet import GRUNetwork, RKN, Trainer\n",
    "from Algo.DynamicalSystems import DynamicalSystems\n",
    "from Algo.LossFunctions import GaussianLikelihoodLoss, MSELoss\n",
    "\n",
    "from Tools.Plots import StdComparisonPlot, ComparisonPlot, LossCurvesPlot\n",
    "from Tools.GenerateMeasurementAndTarget import generate_measurements_and_target\n",
    "from Tools.GenerateStdValues import generate_std_values\n",
    "\n",
    "import torch\n",
    "import os\n",
    "import matplotlib.pyplot as plt\n",
    "from adabelief_pytorch import AdaBelief"
   ]
  },
  {
   "cell_type": "code",
   "execution_count": null,
   "metadata": {},
   "outputs": [],
   "source": [
    "# Batch sizes and sequence length\n",
    "N_E, N_CV, N_T = 1000, 100, 1000\n",
    "len_sequence = 150\n",
    "\n",
    "# Bimodal noise parameters\n",
    "sigma_1 = 1.25\n",
    "p = 0.6\n",
    "r = 1\n",
    "sigma_2 = ( (1/(1-p)) * (r-p*(sigma_1**2)) )**0.5\n",
    "print(\"sigma_2 :\", sigma_2)"
   ]
  },
  {
   "cell_type": "code",
   "execution_count": null,
   "metadata": {},
   "outputs": [],
   "source": [
    "train_std_values = generate_std_values(batch_size = N_E,\n",
    "                                       len_sequence = len_sequence,\n",
    "                                       obs_noise_distribution=['bimodal', [sigma_1, sigma_2, p]])\n",
    "\n",
    "valid_std_values = generate_std_values(batch_size=N_CV,\n",
    "                                       len_sequence=len_sequence,\n",
    "                                       obs_noise_distribution=['bimodal', [sigma_1, sigma_2, p]])\n",
    "\n",
    "test_std_values = generate_std_values(batch_size=N_T,\n",
    "                                      len_sequence=len_sequence,\n",
    "                                      obs_noise_distribution=['bimodal', [sigma_1, sigma_2, p]])"
   ]
  },
  {
   "cell_type": "code",
   "execution_count": null,
   "metadata": {},
   "outputs": [],
   "source": [
    "# Retrieve time-varying Kalman Filter parameters\n",
    "dynamical_system_train = DynamicalSystems.constant_spd_linear_model(dt = 1,\n",
    "                                                                    propag_std = 1e-2,\n",
    "                                                                    obs_std_values = train_std_values)\n",
    "\n",
    "dynamical_system_valid = DynamicalSystems.constant_spd_linear_model(dt = 1,\n",
    "                                                                    propag_std = 1e-2,\n",
    "                                                                    obs_std_values = valid_std_values)\n",
    "\n",
    "dynamical_system_test = DynamicalSystems.constant_spd_linear_model(dt = 1,\n",
    "                                                                   propag_std = 1e-2,\n",
    "                                                                   obs_std_values = test_std_values)\n"
   ]
  },
  {
   "cell_type": "code",
   "execution_count": null,
   "metadata": {},
   "outputs": [],
   "source": [
    "# Initial conditions of the dynamical system\n",
    "data_path = '.data/'\n",
    "dataset_name = 'dataset_bimodal_observation_noise'\n",
    "\n",
    "x0 = torch.tensor([[0, 1]], dtype=torch.float32).T\n",
    "P0 = torch.tensor([[1, 0   ],\n",
    "                   [0, 0.01]], dtype=torch.float32)"
   ]
  },
  {
   "cell_type": "code",
   "execution_count": null,
   "metadata": {},
   "outputs": [],
   "source": [
    "train_file = data_path + dataset_name + '/train.pt'\n",
    "valid_file = data_path + dataset_name + '/valid.pt'\n",
    "test_file = data_path + dataset_name + '/test.pt'\n",
    "\n",
    "try:\n",
    "    if os.path.exists(train_file) and os.path.exists(valid_file) and os.path.exists(test_file):\n",
    "        print(\"Loading existing datasets...\")\n",
    "        train_measure, train_target, _, train_R_values = torch.load(train_file)\n",
    "        valid_measure, valid_target, _, valid_R_values = torch.load(valid_file)\n",
    "        test_measure, test_target, _, test_R_values = torch.load(test_file)\n",
    "    else:\n",
    "        print(\"Generating new datasets...\")\n",
    "        path_train = generate_measurements_and_target(N_E, len_sequence, dynamical_system_train, x0, P0, train_file)\n",
    "        path_valid = generate_measurements_and_target(N_CV, len_sequence, dynamical_system_valid, x0, P0, valid_file)\n",
    "        path_test = generate_measurements_and_target(N_T, len_sequence, dynamical_system_test, x0, P0, test_file)\n",
    "\n",
    "        train_measure, train_target, _, train_R_values = torch.load(path_train)\n",
    "        valid_measure, valid_target, _, valid_R_values = torch.load(path_valid)\n",
    "        test_measure, test_target, _, test_R_values = torch.load(path_test)\n",
    "        \n",
    "except Exception as e:\n",
    "    print(\"An error occurred:\", e)"
   ]
  },
  {
   "cell_type": "code",
   "execution_count": null,
   "metadata": {},
   "outputs": [],
   "source": [
    "# Configurate the R matrix with the data loaded\n",
    "dynamical_system_test = DynamicalSystems.constant_spd_linear_model(dt = 1,\n",
    "                                                                   propag_std = 1e-2,\n",
    "                                                                   obs_std_values = test_R_values[:, 0, 0, :]**0.5)"
   ]
  },
  {
   "cell_type": "code",
   "execution_count": null,
   "metadata": {},
   "outputs": [],
   "source": [
    "# oKF means Optimal Kalman Filter, which is the Kalman Filter with the exact R matrix.\n",
    "# Thus, the Kalman Filter tuns in the optimal way, this is used as reference for the RKN.\n",
    "\n",
    "oKF = KalmanFilter(dynamical_system_test, x0, P0)\n",
    "oKF_x, oKF_gain, oKF_cov = oKF.process_batch(test_measure)"
   ]
  },
  {
   "cell_type": "code",
   "execution_count": null,
   "metadata": {},
   "outputs": [],
   "source": [
    "# Defining the soKF, sub-optimal Kalman Filter, using a R matrix that is constant over time with a mean value r (computed above).\n",
    "# soKF is used as the reference that the RKN should outperform.\n",
    "\n",
    "test_std_values_so = generate_std_values(batch_size=N_T,\n",
    "                                         len_sequence=len_sequence,\n",
    "                                         obs_noise_distribution=['normal', r])\n",
    "\n",
    "dynamical_system_test_so = DynamicalSystems.constant_spd_linear_model(dt = 1,\n",
    "                                                                      propag_std = 1e-2,\n",
    "                                                                      obs_std_values = test_std_values_so)\n",
    "\n",
    "soKF = KalmanFilter(dynamical_system_test_so, x0, P0)\n",
    "soKF_x, soKF_gain, soKF_cov = soKF.process_batch(test_measure)"
   ]
  },
  {
   "cell_type": "code",
   "execution_count": null,
   "metadata": {},
   "outputs": [],
   "source": [
    "F, _, H, _ = dynamical_system_test\n",
    "\n",
    "# Initialize the RKN, if the model_name specified exists in the .models/ file, it loads the model. If not, it initialies a new one with default parameters.\n",
    "# Check the load_or_init_rnns method in the RecursiveKalmanNet.py file for more information.\n",
    "\n",
    "model_name = 'RKN_bimodal'\n",
    "seed = 61\n",
    "torch.manual_seed(seed)\n",
    "weight_factor = 0.1\n",
    "\n",
    "# Initialize RKN\n",
    "rkn = RKN([F, H],\n",
    "          x0, P0,\n",
    "          model_name=model_name,\n",
    "          weight_factor=weight_factor)\n"
   ]
  },
  {
   "cell_type": "code",
   "execution_count": null,
   "metadata": {},
   "outputs": [],
   "source": [
    "# Initialize Trainer\n",
    "learning_rate = 5e-4\n",
    "use_cuda = torch.cuda.is_available()\n",
    "\n",
    "# Initialize the Trainer \n",
    "rkn.model_name = 'RKN_bimodal'\n",
    "trainer = Trainer(rkn, learning_rate, use_cuda, seed, training_loss=GaussianLikelihoodLoss())\n",
    "\n",
    "# Use a slightly modified optimizer from Adam (default optimizer used in the Trainer), converge faster\n",
    "weight_decay = 1e-4\n",
    "trainer.optimizer = AdaBelief(trainer.model.parameters(), lr=trainer.learning_rate, weight_decay=weight_decay, weight_decouple=False, eps=1e-16, rectify=False, print_change_log=False)\n",
    "\n",
    "# Additional parameters\n",
    "n_epochs = 1500\n",
    "batch_size = 64\n",
    "\n",
    "# Set a lr scheduler to deacrease the learning rate through the epochs\n",
    "trainer.set_decreasing_learning_rate(decreasing_learning_rate=True, n_epochs=n_epochs, initial_lr=learning_rate, final_lr=5e-5, step_size=1)\n",
    "\n",
    "# Train the model\n",
    "trainer.train(train_measure, train_target, valid_measure, valid_target, n_epochs, batch_size)"
   ]
  },
  {
   "cell_type": "code",
   "execution_count": null,
   "metadata": {},
   "outputs": [],
   "source": [
    "RKN_x, RKN_gain, RKN_cov = rkn.process_batch(test_measure)"
   ]
  },
  {
   "cell_type": "code",
   "execution_count": null,
   "metadata": {},
   "outputs": [],
   "source": [
    "test_size = test_target.size()[0]\n",
    "loss_fn = torch.nn.MSELoss(reduction='mean')\n",
    "\n",
    "list_results = {\n",
    "    'o-KF' : oKF_x[:,:,:],\n",
    "    'so-KF' : soKF_x[:,:,:],\n",
    "    'RKN' : RKN_x[:,:,:]\n",
    "}\n",
    "\n",
    "for key, predictions in list_results.items():\n",
    "    print(\"MSE results in linear scale and dB scale for model \", key)\n",
    "    MSE_test_linear_avg = torch.mean(torch.square(test_target[:,:,:] - predictions[:,:,:].detach()))\n",
    "    MSE_test_dB_avg = 10 * torch.log10(MSE_test_linear_avg)\n",
    "\n",
    "    print(\"MSE : \", MSE_test_dB_avg, \" [dB]\")\n",
    "    print(\"MSE : \", MSE_test_linear_avg , \" [linear scale] \\n\")\n"
   ]
  },
  {
   "cell_type": "code",
   "execution_count": null,
   "metadata": {},
   "outputs": [],
   "source": [
    "# Path to save plots in pdf format \n",
    "plot_path = '.results/plot_saves/'\n",
    "plot_name = 'loss_curves'\n",
    "\n",
    "linewidth = 1\n",
    "fig = plt.figure(figsize=(7, 5))\n",
    "ax = LossCurvesPlot(fig)            # Custom plot to compare loss curves, using model name to load losses\n",
    "\n",
    "ax.plot_loss(model_name='RKN_bimodal', format_index=0, linewidth=linewidth, markevery=100)\n",
    "\n",
    "ax.set_xlabel(\"Epochs\")\n",
    "ax.set_ylabel(\"Loss\")\n",
    "ax.set_title(\"Loss Curve\")\n",
    "ax.set_ylim(-8, 2)\n",
    "ax.grid()\n",
    "ax.legend()\n",
    "\n",
    "plt.savefig(plot_path + plot_name, format=\"pdf\", bbox_inches=\"tight\", pad_inches=0)\n",
    "plt.show()"
   ]
  },
  {
   "cell_type": "code",
   "execution_count": null,
   "metadata": {},
   "outputs": [],
   "source": [
    "plot_name = 'std_comparison'\n",
    "\n",
    "markevery = 15\n",
    "fig = plt.figure(figsize=(7, 5))\n",
    "ax = StdComparisonPlot(fig, state=0)  # Custom plot to compare empirical and estimated standart deviations of a state\n",
    "\n",
    "t = torch.arange(0, len_sequence)\n",
    "ax.std_emp_plot(t=t, target=test_target, prediction=oKF_x, format_index=0, label=\"Empirical oKF error std\", linestyle=\"-\", linewidth=linewidth, markevery=markevery)\n",
    "ax.std_emp_plot(t=t, target=test_target, prediction=soKF_x, format_index=1, label=\"Empirical soKF error std\", linestyle=\"-\", linewidth=linewidth, markevery=markevery)\n",
    "ax.std_emp_plot(t=t, target=test_target, prediction=RKN_x, format_index=2, label=\"Empirical RKN error std\", linestyle=\"-\", linewidth=linewidth, markevery=markevery)\n",
    "\n",
    "ax.std_pred_plot(t=t, cov=oKF_cov, format_index=0, label=\"Predicted oKF std\", linestyle=\"--\", linewidth=linewidth, markevery=markevery)\n",
    "ax.std_pred_plot(t=t, cov=soKF_cov, format_index=1, label=\"Predicted soKF std\", linestyle=\"--\", linewidth=linewidth, markevery=markevery)\n",
    "ax.std_pred_plot(t=t, cov=RKN_cov, format_index=2, label=\"Predicted RKN std\", linestyle=\"--\", linewidth=linewidth, markevery=markevery)\n",
    "\n",
    "ax.set_xlim(0, 150)\n",
    "ax.set_ylim(0, 1)\n",
    "ax.set_xlabel(\"Time (s)\")\n",
    "ax.set_ylabel(\"Standard Deviation (m)\")\n",
    "ax.set_title(\"Standard Deviation Plot\")\n",
    "ax.grid(True)\n",
    "ax.legend()\n",
    "\n",
    "plt.savefig(plot_path + plot_name, format=\"pdf\", bbox_inches=\"tight\", pad_inches=0)\n",
    "plt.show()"
   ]
  },
  {
   "cell_type": "code",
   "execution_count": null,
   "metadata": {},
   "outputs": [],
   "source": [
    "plot_name = 'gain_comparison'\n",
    "\n",
    "markevery = 10\n",
    "fig = plt.figure(figsize=(7, 5))  \n",
    "ax = ComparisonPlot(fig)  # Custom plot to compare curves, using the regular paper graph style\n",
    "\n",
    "t = torch.arange(0, len_sequence)\n",
    "idx = 5\n",
    "ax.plot(t=t, y=oKF_gain[idx, 0, 0, :], format_index=0, label=\"o-KF Gain\", linestyle=\"-\", linewidth=linewidth, markevery=markevery)\n",
    "ax.plot(t=t, y=soKF_gain[idx, 0, 0, :], format_index=1, label=\"so-KF Gain\", linestyle=\"-\", linewidth=linewidth, markevery=markevery)\n",
    "ax.plot(t=t, y=RKN_gain[idx, 0, 0, :], format_index=2, label=\"RKN Gain\", linestyle=\"-\", linewidth=linewidth, markevery=markevery)\n",
    "\n",
    "ax.set_xlim(0, 60)\n",
    "ax.set_ylim(0, 0.7)\n",
    "ax.set_xlabel(\"Time (s)\")\n",
    "ax.set_ylabel(\"Position gain\")\n",
    "ax.set_title(\"Temporal evolution of position estimated gain\")\n",
    "ax.grid()\n",
    "ax.legend()\n",
    "\n",
    "plt.savefig(plot_path + plot_name, format=\"pdf\", bbox_inches=\"tight\", pad_inches=0)\n",
    "plt.show()\n"
   ]
  }
 ],
 "metadata": {
  "kernelspec": {
   "display_name": "env",
   "language": "python",
   "name": "python3"
  },
  "language_info": {
   "codemirror_mode": {
    "name": "ipython",
    "version": 3
   },
   "file_extension": ".py",
   "mimetype": "text/x-python",
   "name": "python",
   "nbconvert_exporter": "python",
   "pygments_lexer": "ipython3",
   "version": "3.12.8"
  }
 },
 "nbformat": 4,
 "nbformat_minor": 2
}
